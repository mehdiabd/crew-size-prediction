{
 "cells": [
  {
   "cell_type": "code",
   "execution_count": 58,
   "metadata": {},
   "outputs": [],
   "source": [
    "import pandas as pd\n",
    "import matplotlib.pyplot as plt\n",
    "import seaborn as sns\n",
    "from scipy.stats import chi2_contingency\n",
    "from sklearn.model_selection import train_test_split\n",
    "import warnings\n",
    "warnings.filterwarnings('ignore')"
   ]
  },
  {
   "cell_type": "markdown",
   "metadata": {},
   "source": [
    "# Q1\n",
    "## Load Data"
   ]
  },
  {
   "cell_type": "code",
   "execution_count": 8,
   "metadata": {},
   "outputs": [
    {
     "data": {
      "text/html": [
       "<div>\n",
       "<style scoped>\n",
       "    .dataframe tbody tr th:only-of-type {\n",
       "        vertical-align: middle;\n",
       "    }\n",
       "\n",
       "    .dataframe tbody tr th {\n",
       "        vertical-align: top;\n",
       "    }\n",
       "\n",
       "    .dataframe thead th {\n",
       "        text-align: right;\n",
       "    }\n",
       "</style>\n",
       "<table border=\"1\" class=\"dataframe\">\n",
       "  <thead>\n",
       "    <tr style=\"text-align: right;\">\n",
       "      <th></th>\n",
       "      <th>Ship_name</th>\n",
       "      <th>Cruise_line</th>\n",
       "      <th>Age</th>\n",
       "      <th>Tonnage</th>\n",
       "      <th>passengers</th>\n",
       "      <th>length</th>\n",
       "      <th>cabins</th>\n",
       "      <th>passenger_density</th>\n",
       "      <th>crew</th>\n",
       "    </tr>\n",
       "  </thead>\n",
       "  <tbody>\n",
       "    <tr>\n",
       "      <th>0</th>\n",
       "      <td>Journey</td>\n",
       "      <td>Azamara</td>\n",
       "      <td>6</td>\n",
       "      <td>30.277</td>\n",
       "      <td>6.94</td>\n",
       "      <td>5.94</td>\n",
       "      <td>3.55</td>\n",
       "      <td>42.64</td>\n",
       "      <td>3.55</td>\n",
       "    </tr>\n",
       "    <tr>\n",
       "      <th>1</th>\n",
       "      <td>Quest</td>\n",
       "      <td>Azamara</td>\n",
       "      <td>6</td>\n",
       "      <td>30.277</td>\n",
       "      <td>6.94</td>\n",
       "      <td>5.94</td>\n",
       "      <td>3.55</td>\n",
       "      <td>42.64</td>\n",
       "      <td>3.55</td>\n",
       "    </tr>\n",
       "    <tr>\n",
       "      <th>2</th>\n",
       "      <td>Celebration</td>\n",
       "      <td>Carnival</td>\n",
       "      <td>26</td>\n",
       "      <td>47.262</td>\n",
       "      <td>14.86</td>\n",
       "      <td>7.22</td>\n",
       "      <td>7.43</td>\n",
       "      <td>31.80</td>\n",
       "      <td>6.70</td>\n",
       "    </tr>\n",
       "    <tr>\n",
       "      <th>3</th>\n",
       "      <td>Conquest</td>\n",
       "      <td>Carnival</td>\n",
       "      <td>11</td>\n",
       "      <td>110.000</td>\n",
       "      <td>29.74</td>\n",
       "      <td>9.53</td>\n",
       "      <td>14.88</td>\n",
       "      <td>36.99</td>\n",
       "      <td>19.10</td>\n",
       "    </tr>\n",
       "    <tr>\n",
       "      <th>4</th>\n",
       "      <td>Destiny</td>\n",
       "      <td>Carnival</td>\n",
       "      <td>17</td>\n",
       "      <td>101.353</td>\n",
       "      <td>26.42</td>\n",
       "      <td>8.92</td>\n",
       "      <td>13.21</td>\n",
       "      <td>38.36</td>\n",
       "      <td>10.00</td>\n",
       "    </tr>\n",
       "    <tr>\n",
       "      <th>...</th>\n",
       "      <td>...</td>\n",
       "      <td>...</td>\n",
       "      <td>...</td>\n",
       "      <td>...</td>\n",
       "      <td>...</td>\n",
       "      <td>...</td>\n",
       "      <td>...</td>\n",
       "      <td>...</td>\n",
       "      <td>...</td>\n",
       "    </tr>\n",
       "    <tr>\n",
       "      <th>153</th>\n",
       "      <td>Taurus</td>\n",
       "      <td>Star</td>\n",
       "      <td>22</td>\n",
       "      <td>3.341</td>\n",
       "      <td>0.66</td>\n",
       "      <td>2.79</td>\n",
       "      <td>0.33</td>\n",
       "      <td>50.62</td>\n",
       "      <td>0.59</td>\n",
       "    </tr>\n",
       "    <tr>\n",
       "      <th>154</th>\n",
       "      <td>Virgo</td>\n",
       "      <td>Star</td>\n",
       "      <td>14</td>\n",
       "      <td>76.800</td>\n",
       "      <td>19.60</td>\n",
       "      <td>8.79</td>\n",
       "      <td>9.67</td>\n",
       "      <td>39.18</td>\n",
       "      <td>12.00</td>\n",
       "    </tr>\n",
       "    <tr>\n",
       "      <th>155</th>\n",
       "      <td>Spirit</td>\n",
       "      <td>Windstar</td>\n",
       "      <td>25</td>\n",
       "      <td>5.350</td>\n",
       "      <td>1.58</td>\n",
       "      <td>4.40</td>\n",
       "      <td>0.74</td>\n",
       "      <td>33.86</td>\n",
       "      <td>0.88</td>\n",
       "    </tr>\n",
       "    <tr>\n",
       "      <th>156</th>\n",
       "      <td>Star</td>\n",
       "      <td>Windstar</td>\n",
       "      <td>27</td>\n",
       "      <td>5.350</td>\n",
       "      <td>1.67</td>\n",
       "      <td>4.40</td>\n",
       "      <td>0.74</td>\n",
       "      <td>32.04</td>\n",
       "      <td>0.88</td>\n",
       "    </tr>\n",
       "    <tr>\n",
       "      <th>157</th>\n",
       "      <td>Surf</td>\n",
       "      <td>Windstar</td>\n",
       "      <td>23</td>\n",
       "      <td>14.745</td>\n",
       "      <td>3.08</td>\n",
       "      <td>6.17</td>\n",
       "      <td>1.56</td>\n",
       "      <td>47.87</td>\n",
       "      <td>1.80</td>\n",
       "    </tr>\n",
       "  </tbody>\n",
       "</table>\n",
       "<p>158 rows × 9 columns</p>\n",
       "</div>"
      ],
      "text/plain": [
       "       Ship_name Cruise_line  Age  Tonnage  passengers  length  cabins  \\\n",
       "0        Journey     Azamara    6   30.277        6.94    5.94    3.55   \n",
       "1          Quest     Azamara    6   30.277        6.94    5.94    3.55   \n",
       "2    Celebration    Carnival   26   47.262       14.86    7.22    7.43   \n",
       "3       Conquest    Carnival   11  110.000       29.74    9.53   14.88   \n",
       "4        Destiny    Carnival   17  101.353       26.42    8.92   13.21   \n",
       "..           ...         ...  ...      ...         ...     ...     ...   \n",
       "153       Taurus        Star   22    3.341        0.66    2.79    0.33   \n",
       "154        Virgo        Star   14   76.800       19.60    8.79    9.67   \n",
       "155       Spirit    Windstar   25    5.350        1.58    4.40    0.74   \n",
       "156         Star    Windstar   27    5.350        1.67    4.40    0.74   \n",
       "157         Surf    Windstar   23   14.745        3.08    6.17    1.56   \n",
       "\n",
       "     passenger_density   crew  \n",
       "0                42.64   3.55  \n",
       "1                42.64   3.55  \n",
       "2                31.80   6.70  \n",
       "3                36.99  19.10  \n",
       "4                38.36  10.00  \n",
       "..                 ...    ...  \n",
       "153              50.62   0.59  \n",
       "154              39.18  12.00  \n",
       "155              33.86   0.88  \n",
       "156              32.04   0.88  \n",
       "157              47.87   1.80  \n",
       "\n",
       "[158 rows x 9 columns]"
      ]
     },
     "execution_count": 8,
     "metadata": {},
     "output_type": "execute_result"
    }
   ],
   "source": [
    "df_train = pd.read_csv('data_info.csv')\n",
    "df_train"
   ]
  },
  {
   "cell_type": "markdown",
   "metadata": {},
   "source": [
    "# Q2\n",
    "## Data Exploration"
   ]
  },
  {
   "cell_type": "code",
   "execution_count": 11,
   "metadata": {},
   "outputs": [
    {
     "data": {
      "text/plain": [
       "Index(['Ship_name', 'Cruise_line', 'Age', 'Tonnage', 'passengers', 'length',\n",
       "       'cabins', 'passenger_density', 'crew'],\n",
       "      dtype='object')"
      ]
     },
     "execution_count": 11,
     "metadata": {},
     "output_type": "execute_result"
    }
   ],
   "source": [
    "df_train.columns"
   ]
  },
  {
   "cell_type": "code",
   "execution_count": 14,
   "metadata": {},
   "outputs": [
    {
     "data": {
      "text/plain": [
       "count    158.000000\n",
       "mean       7.794177\n",
       "std        3.503487\n",
       "min        0.590000\n",
       "25%        5.480000\n",
       "50%        8.150000\n",
       "75%        9.990000\n",
       "max       21.000000\n",
       "Name: crew, dtype: float64"
      ]
     },
     "execution_count": 14,
     "metadata": {},
     "output_type": "execute_result"
    }
   ],
   "source": [
    "\"\"\"\n",
    "Here we can see some specifications of column 'crew', which is our target. We see some statistical metrics\n",
    "such as overall record count, mean, standard deviation, minimum value, maximum value, etc. \n",
    "\"\"\"\n",
    "df_train['crew'].describe()"
   ]
  },
  {
   "cell_type": "markdown",
   "metadata": {},
   "source": [
    "### data exploration:\n",
    "\n",
    "This dataset contains data of some passenger ships which is gathered into a 158 x 9 dataframe (meaning this dataset is made up of 158 records and 9 columns.)\n",
    "\n",
    "The columns are : 'ship_name', 'cruise_line', 'age', 'tonnage', 'passengers', 'length', 'cabins', 'passenger_density' and 'crew'; which is our most important field to study and discuss.\n",
    "\n",
    "\n",
    "###### What does every field (column name) stand for?\n",
    "* ship_name: clearly the name of each ship\n",
    "* cruise_line: the company which provides ship travels and services\n",
    "* age: age of the ship \n",
    "* tonnage: how much weight does the ship handle?\n",
    "* passengers: passenger capacity of the ship\n",
    "* length: length of the ship from nose to the end\n",
    "* cabins: number of cabins in the ship\n",
    "* passenger density: ratio of passenger in the ship\n",
    "* crew: number of the crew members \n",
    "\n",
    "\n",
    "###### Metrics:\n",
    "* age: year\n",
    "* tonnage: ton(s)\n",
    "* passengers: person; (Its floating point values shows us that it is a calculated field. Clearly we have not a float number of people in the real world.\n",
    "* length: meter(s)\n",
    "* cabins: number; Also this sounds like a calculated field because we do not have float numbers in real world counting.\n",
    "* passenger_density: % (percent)\n",
    "* crew: person; Also it's a calculated field.\n",
    "\n",
    "\n",
    "###### Relationship between each field and the number of the crew members:\n",
    "cruis_line: I know this might be kind of wierd but in my opinion it can be related to the number of the crew members. I think each cruise_line can have a different policy for assigning the number of the crew members to each ship that it supports.\n",
    "\n",
    "age: I think the more the ship gets old, the more crew members shall it need. Although the ratio couldn't be that straight but there is a logical relationship between these 2 fields (age and crew members).\n",
    "\n",
    "tonnage x passengers: There is a 3-side relationship between these two fields and the number of the crew members needed. In fact, we know that tonnage and number of passengers are directly related ( in the passenger ships.) . So the more the tonnage grows, the more passengers the ship can have. Also we already know that the more passengers use the ship, the more crew members we need at the ship.\n",
    "\n",
    "length x cabins x passenger_density: We can see a straight correlation between these 3 fields and number of the crew members. It's clear that the length of the ship can show us how big it is. So the more the ship length grows, the more crew members are needed. Also more cabins in a ship tells us we need more crew members. And also the more passenger_density we have, the more crew members we need.\n",
    "\n",
    "\n",
    "###### Let's see what's going on ..."
   ]
  },
  {
   "cell_type": "code",
   "execution_count": 35,
   "metadata": {},
   "outputs": [
    {
     "data": {
      "image/png": "[encoded data removed]",
      "text/plain": [
       "<Figure size 432x288 with 1 Axes>"
      ]
     },
     "metadata": {
      "needs_background": "light"
     },
     "output_type": "display_data"
    }
   ],
   "source": [
    "# histogram of crew\n",
    "sns.distplot(df_train['crew']);"
   ]
  },
  {
   "cell_type": "markdown",
   "metadata": {},
   "source": [
    "As we can see in the histogram (using seaborn library) this dataset :\n",
    "* Deviates from the normal distribution.\n",
    "* Has slightly positive skewness.\n",
    "* Shows peakedness."
   ]
  },
  {
   "cell_type": "code",
   "execution_count": 29,
   "metadata": {},
   "outputs": [
    {
     "name": "stdout",
     "output_type": "stream",
     "text": [
      "Skewness: 0.19478713071101847\n",
      "Kurtosis: 0.7864407847850337\n"
     ]
    }
   ],
   "source": [
    "# skewness and kurtosis of crew\n",
    "print(f\"Skewness: {df_train['crew'].skew()}\")\n",
    "print(f\"Kurtosis: {df_train['crew'].kurt()}\")"
   ]
  },
  {
   "cell_type": "markdown",
   "metadata": {},
   "source": [
    "According to the histogram and also the skewness and kurtosis metrics shown above, we can see the positive skewness and the positive kurtosis of the field \"crew\"."
   ]
  },
  {
   "cell_type": "code",
   "execution_count": 33,
   "metadata": {},
   "outputs": [
    {
     "data": {
      "image/png": "[encoded data removed]",
      "text/plain": [
       "<Figure size 432x288 with 1 Axes>"
      ]
     },
     "metadata": {
      "needs_background": "light"
     },
     "output_type": "display_data"
    }
   ],
   "source": [
    "# scatter plot passengers/crew\n",
    "var = 'passengers'\n",
    "data = pd.concat([df_train['crew'], df_train[var]], axis=1)\n",
    "data.plot.scatter(x=var, y='crew', ylim=(0,20));"
   ]
  },
  {
   "cell_type": "code",
   "execution_count": 36,
   "metadata": {},
   "outputs": [
    {
     "data": {
      "image/png": "[encoded data removed]",
      "text/plain": [
       "<Figure size 432x288 with 1 Axes>"
      ]
     },
     "metadata": {
      "needs_background": "light"
     },
     "output_type": "display_data"
    }
   ],
   "source": [
    "# scatter plot cabins/crew\n",
    "var = 'cabins'\n",
    "data = pd.concat([df_train['crew'], df_train[var]], axis=1)\n",
    "data.plot.scatter(x=var, y='crew', ylim=(0,20));"
   ]
  },
  {
   "cell_type": "markdown",
   "metadata": {},
   "source": [
    "As it is shown above, it looks like the 'cabins' field has an appreciable correlation with the 'crew'. So this could be one of necessary columns to predict 'crew' size."
   ]
  },
  {
   "cell_type": "markdown",
   "metadata": {},
   "source": [
    "# Q3\n",
    "## Feature Selection"
   ]
  },
  {
   "cell_type": "markdown",
   "metadata": {},
   "source": [
    "- As we can see below, here we use Pearson correlation to figure out how much a numeric feature is correlated to the target feature 'crew'.\n",
    "- We plot this correlation heatmap using seaborn to visualize the correlations between each numeric feature and feature 'crew'."
   ]
  },
  {
   "cell_type": "code",
   "execution_count": 38,
   "metadata": {},
   "outputs": [
    {
     "data": {
      "image/png": "[encoded data removed]",
      "text/plain": [
       "<Figure size 864x720 with 2 Axes>"
      ]
     },
     "metadata": {
      "needs_background": "light"
     },
     "output_type": "display_data"
    }
   ],
   "source": [
    "#Using Pearson Correlation\n",
    "plt.figure(figsize=(12,10))\n",
    "cor = df_train.corr()\n",
    "sns.heatmap(cor, annot=True, cmap=plt.cm.Reds)\n",
    "plt.show()"
   ]
  },
  {
   "cell_type": "markdown",
   "metadata": {},
   "source": [
    "- Here we declare that our target feature is 'crew' and we only show relevant features.\n",
    "- The term relevant here belongs to every feature that its absolute correlation with 'crew' is higher than 0.5 ."
   ]
  },
  {
   "cell_type": "code",
   "execution_count": 39,
   "metadata": {},
   "outputs": [
    {
     "data": {
      "text/plain": [
       "Age           0.530657\n",
       "Tonnage       0.927569\n",
       "passengers    0.915234\n",
       "length        0.895857\n",
       "cabins        0.950823\n",
       "crew          1.000000\n",
       "Name: crew, dtype: float64"
      ]
     },
     "execution_count": 39,
     "metadata": {},
     "output_type": "execute_result"
    }
   ],
   "source": [
    "#Correlation with 'crew' variable\n",
    "cor_target = abs(cor[\"crew\"])\n",
    "#Selecting highly correlated features\n",
    "relevant_features = cor_target[cor_target>0.5]\n",
    "relevant_features"
   ]
  },
  {
   "cell_type": "markdown",
   "metadata": {},
   "source": [
    "So, the feature 'passenger_density' here gets out from rest of the process. (0.16 < 0.5)"
   ]
  },
  {
   "cell_type": "code",
   "execution_count": 47,
   "metadata": {},
   "outputs": [
    {
     "name": "stdout",
     "output_type": "stream",
     "text": [
      "<class 'pandas.core.frame.DataFrame'>\n",
      "RangeIndex: 158 entries, 0 to 157\n",
      "Data columns (total 9 columns):\n",
      "Ship_name            158 non-null object\n",
      "Cruise_line          158 non-null object\n",
      "Age                  158 non-null int64\n",
      "Tonnage              158 non-null float64\n",
      "passengers           158 non-null float64\n",
      "length               158 non-null float64\n",
      "cabins               158 non-null float64\n",
      "passenger_density    158 non-null float64\n",
      "crew                 158 non-null float64\n",
      "dtypes: float64(6), int64(1), object(2)\n",
      "memory usage: 11.2+ KB\n"
     ]
    }
   ],
   "source": [
    "#Getting all the categorical columns \n",
    "categorical_columns = df_train.select_dtypes(exclude = 'number').columns\n",
    "df_train.info()"
   ]
  },
  {
   "cell_type": "code",
   "execution_count": 54,
   "metadata": {},
   "outputs": [
    {
     "name": "stdout",
     "output_type": "stream",
     "text": [
      "Chi2 Statistic: 2594.9842590061257, p-value: 1.317452944467631e-39\n"
     ]
    }
   ],
   "source": [
    "# Testing the relationship between a categorical feature and the target\n",
    "chi_res = chi2_contingency(pd.crosstab(df_train['crew'], df_train['Cruise_line']))\n",
    "print('Chi2 Statistic: {}, p-value: {}'.format(chi_res[0], chi_res[1]))"
   ]
  },
  {
   "cell_type": "markdown",
   "metadata": {},
   "source": [
    "As we can see below, feature 'Ship_name' doesn't have relatoinship with 'crew' but 'Cruise_line' has one."
   ]
  },
  {
   "cell_type": "code",
   "execution_count": 55,
   "metadata": {},
   "outputs": [
    {
     "name": "stdout",
     "output_type": "stream",
     "text": [
      "        Column                      Hypothesis\n",
      "0    Ship_name  Fail to Reject Null Hypothesis\n",
      "1  Cruise_line          Reject Null Hypothesis\n"
     ]
    }
   ],
   "source": [
    "chi2_check = []\n",
    "for i in categorical_columns:\n",
    "    if chi2_contingency(pd.crosstab(df_train['crew'], df_train[i]))[1] < 0.05:\n",
    "        chi2_check.append('Reject Null Hypothesis')\n",
    "    else:\n",
    "        chi2_check.append('Fail to Reject Null Hypothesis')\n",
    "res = pd.DataFrame(data = [categorical_columns, chi2_check] \n",
    "             ).T \n",
    "res.columns = ['Column', 'Hypothesis']\n",
    "print(res)"
   ]
  },
  {
   "cell_type": "markdown",
   "metadata": {},
   "source": [
    "So finally we dropped features 'passenger_density' and 'Ship_name' from the rest of the process, because they weren't relevant to our target 'crew'."
   ]
  },
  {
   "cell_type": "markdown",
   "metadata": {},
   "source": [
    "# Q4\n",
    "## Train and Test Sets"
   ]
  },
  {
   "cell_type": "code",
   "execution_count": 78,
   "metadata": {},
   "outputs": [
    {
     "data": {
      "text/plain": [
       "0       3.55\n",
       "1       3.55\n",
       "2       6.70\n",
       "3      19.10\n",
       "4      10.00\n",
       "       ...  \n",
       "153     0.59\n",
       "154    12.00\n",
       "155     0.88\n",
       "156     0.88\n",
       "157     1.80\n",
       "Name: crew, Length: 158, dtype: float64"
      ]
     },
     "execution_count": 78,
     "metadata": {},
     "output_type": "execute_result"
    }
   ],
   "source": [
    "# select the relevant columns\n",
    "df = df_train[['Cruise_line', 'Age', 'Tonnage', 'passengers', 'length', 'cabins', 'crew']]\n",
    "\n",
    "# creating the target variable\n",
    "y = df.crew\n",
    "y"
   ]
  },
  {
   "cell_type": "code",
   "execution_count": 92,
   "metadata": {},
   "outputs": [
    {
     "data": {
      "text/html": [
       "<div>\n",
       "<style scoped>\n",
       "    .dataframe tbody tr th:only-of-type {\n",
       "        vertical-align: middle;\n",
       "    }\n",
       "\n",
       "    .dataframe tbody tr th {\n",
       "        vertical-align: top;\n",
       "    }\n",
       "\n",
       "    .dataframe thead th {\n",
       "        text-align: right;\n",
       "    }\n",
       "</style>\n",
       "<table border=\"1\" class=\"dataframe\">\n",
       "  <thead>\n",
       "    <tr style=\"text-align: right;\">\n",
       "      <th></th>\n",
       "      <th>Age</th>\n",
       "      <th>Tonnage</th>\n",
       "      <th>passengers</th>\n",
       "      <th>length</th>\n",
       "      <th>cabins</th>\n",
       "      <th>Cruise_line_Azamara</th>\n",
       "      <th>Cruise_line_Carnival</th>\n",
       "      <th>Cruise_line_Celebrity</th>\n",
       "      <th>Cruise_line_Costa</th>\n",
       "      <th>Cruise_line_Crystal</th>\n",
       "      <th>...</th>\n",
       "      <th>Cruise_line_Oceania</th>\n",
       "      <th>Cruise_line_Orient</th>\n",
       "      <th>Cruise_line_P&amp;O</th>\n",
       "      <th>Cruise_line_Princess</th>\n",
       "      <th>Cruise_line_Regent_Seven_Seas</th>\n",
       "      <th>Cruise_line_Royal_Caribbean</th>\n",
       "      <th>Cruise_line_Seabourn</th>\n",
       "      <th>Cruise_line_Silversea</th>\n",
       "      <th>Cruise_line_Star</th>\n",
       "      <th>Cruise_line_Windstar</th>\n",
       "    </tr>\n",
       "  </thead>\n",
       "  <tbody>\n",
       "    <tr>\n",
       "      <th>0</th>\n",
       "      <td>6</td>\n",
       "      <td>30.277</td>\n",
       "      <td>6.94</td>\n",
       "      <td>5.94</td>\n",
       "      <td>3.55</td>\n",
       "      <td>1</td>\n",
       "      <td>0</td>\n",
       "      <td>0</td>\n",
       "      <td>0</td>\n",
       "      <td>0</td>\n",
       "      <td>...</td>\n",
       "      <td>0</td>\n",
       "      <td>0</td>\n",
       "      <td>0</td>\n",
       "      <td>0</td>\n",
       "      <td>0</td>\n",
       "      <td>0</td>\n",
       "      <td>0</td>\n",
       "      <td>0</td>\n",
       "      <td>0</td>\n",
       "      <td>0</td>\n",
       "    </tr>\n",
       "    <tr>\n",
       "      <th>1</th>\n",
       "      <td>6</td>\n",
       "      <td>30.277</td>\n",
       "      <td>6.94</td>\n",
       "      <td>5.94</td>\n",
       "      <td>3.55</td>\n",
       "      <td>1</td>\n",
       "      <td>0</td>\n",
       "      <td>0</td>\n",
       "      <td>0</td>\n",
       "      <td>0</td>\n",
       "      <td>...</td>\n",
       "      <td>0</td>\n",
       "      <td>0</td>\n",
       "      <td>0</td>\n",
       "      <td>0</td>\n",
       "      <td>0</td>\n",
       "      <td>0</td>\n",
       "      <td>0</td>\n",
       "      <td>0</td>\n",
       "      <td>0</td>\n",
       "      <td>0</td>\n",
       "    </tr>\n",
       "    <tr>\n",
       "      <th>2</th>\n",
       "      <td>26</td>\n",
       "      <td>47.262</td>\n",
       "      <td>14.86</td>\n",
       "      <td>7.22</td>\n",
       "      <td>7.43</td>\n",
       "      <td>0</td>\n",
       "      <td>1</td>\n",
       "      <td>0</td>\n",
       "      <td>0</td>\n",
       "      <td>0</td>\n",
       "      <td>...</td>\n",
       "      <td>0</td>\n",
       "      <td>0</td>\n",
       "      <td>0</td>\n",
       "      <td>0</td>\n",
       "      <td>0</td>\n",
       "      <td>0</td>\n",
       "      <td>0</td>\n",
       "      <td>0</td>\n",
       "      <td>0</td>\n",
       "      <td>0</td>\n",
       "    </tr>\n",
       "    <tr>\n",
       "      <th>3</th>\n",
       "      <td>11</td>\n",
       "      <td>110.000</td>\n",
       "      <td>29.74</td>\n",
       "      <td>9.53</td>\n",
       "      <td>14.88</td>\n",
       "      <td>0</td>\n",
       "      <td>1</td>\n",
       "      <td>0</td>\n",
       "      <td>0</td>\n",
       "      <td>0</td>\n",
       "      <td>...</td>\n",
       "      <td>0</td>\n",
       "      <td>0</td>\n",
       "      <td>0</td>\n",
       "      <td>0</td>\n",
       "      <td>0</td>\n",
       "      <td>0</td>\n",
       "      <td>0</td>\n",
       "      <td>0</td>\n",
       "      <td>0</td>\n",
       "      <td>0</td>\n",
       "    </tr>\n",
       "    <tr>\n",
       "      <th>4</th>\n",
       "      <td>17</td>\n",
       "      <td>101.353</td>\n",
       "      <td>26.42</td>\n",
       "      <td>8.92</td>\n",
       "      <td>13.21</td>\n",
       "      <td>0</td>\n",
       "      <td>1</td>\n",
       "      <td>0</td>\n",
       "      <td>0</td>\n",
       "      <td>0</td>\n",
       "      <td>...</td>\n",
       "      <td>0</td>\n",
       "      <td>0</td>\n",
       "      <td>0</td>\n",
       "      <td>0</td>\n",
       "      <td>0</td>\n",
       "      <td>0</td>\n",
       "      <td>0</td>\n",
       "      <td>0</td>\n",
       "      <td>0</td>\n",
       "      <td>0</td>\n",
       "    </tr>\n",
       "    <tr>\n",
       "      <th>...</th>\n",
       "      <td>...</td>\n",
       "      <td>...</td>\n",
       "      <td>...</td>\n",
       "      <td>...</td>\n",
       "      <td>...</td>\n",
       "      <td>...</td>\n",
       "      <td>...</td>\n",
       "      <td>...</td>\n",
       "      <td>...</td>\n",
       "      <td>...</td>\n",
       "      <td>...</td>\n",
       "      <td>...</td>\n",
       "      <td>...</td>\n",
       "      <td>...</td>\n",
       "      <td>...</td>\n",
       "      <td>...</td>\n",
       "      <td>...</td>\n",
       "      <td>...</td>\n",
       "      <td>...</td>\n",
       "      <td>...</td>\n",
       "      <td>...</td>\n",
       "    </tr>\n",
       "    <tr>\n",
       "      <th>153</th>\n",
       "      <td>22</td>\n",
       "      <td>3.341</td>\n",
       "      <td>0.66</td>\n",
       "      <td>2.79</td>\n",
       "      <td>0.33</td>\n",
       "      <td>0</td>\n",
       "      <td>0</td>\n",
       "      <td>0</td>\n",
       "      <td>0</td>\n",
       "      <td>0</td>\n",
       "      <td>...</td>\n",
       "      <td>0</td>\n",
       "      <td>0</td>\n",
       "      <td>0</td>\n",
       "      <td>0</td>\n",
       "      <td>0</td>\n",
       "      <td>0</td>\n",
       "      <td>0</td>\n",
       "      <td>0</td>\n",
       "      <td>1</td>\n",
       "      <td>0</td>\n",
       "    </tr>\n",
       "    <tr>\n",
       "      <th>154</th>\n",
       "      <td>14</td>\n",
       "      <td>76.800</td>\n",
       "      <td>19.60</td>\n",
       "      <td>8.79</td>\n",
       "      <td>9.67</td>\n",
       "      <td>0</td>\n",
       "      <td>0</td>\n",
       "      <td>0</td>\n",
       "      <td>0</td>\n",
       "      <td>0</td>\n",
       "      <td>...</td>\n",
       "      <td>0</td>\n",
       "      <td>0</td>\n",
       "      <td>0</td>\n",
       "      <td>0</td>\n",
       "      <td>0</td>\n",
       "      <td>0</td>\n",
       "      <td>0</td>\n",
       "      <td>0</td>\n",
       "      <td>1</td>\n",
       "      <td>0</td>\n",
       "    </tr>\n",
       "    <tr>\n",
       "      <th>155</th>\n",
       "      <td>25</td>\n",
       "      <td>5.350</td>\n",
       "      <td>1.58</td>\n",
       "      <td>4.40</td>\n",
       "      <td>0.74</td>\n",
       "      <td>0</td>\n",
       "      <td>0</td>\n",
       "      <td>0</td>\n",
       "      <td>0</td>\n",
       "      <td>0</td>\n",
       "      <td>...</td>\n",
       "      <td>0</td>\n",
       "      <td>0</td>\n",
       "      <td>0</td>\n",
       "      <td>0</td>\n",
       "      <td>0</td>\n",
       "      <td>0</td>\n",
       "      <td>0</td>\n",
       "      <td>0</td>\n",
       "      <td>0</td>\n",
       "      <td>1</td>\n",
       "    </tr>\n",
       "    <tr>\n",
       "      <th>156</th>\n",
       "      <td>27</td>\n",
       "      <td>5.350</td>\n",
       "      <td>1.67</td>\n",
       "      <td>4.40</td>\n",
       "      <td>0.74</td>\n",
       "      <td>0</td>\n",
       "      <td>0</td>\n",
       "      <td>0</td>\n",
       "      <td>0</td>\n",
       "      <td>0</td>\n",
       "      <td>...</td>\n",
       "      <td>0</td>\n",
       "      <td>0</td>\n",
       "      <td>0</td>\n",
       "      <td>0</td>\n",
       "      <td>0</td>\n",
       "      <td>0</td>\n",
       "      <td>0</td>\n",
       "      <td>0</td>\n",
       "      <td>0</td>\n",
       "      <td>1</td>\n",
       "    </tr>\n",
       "    <tr>\n",
       "      <th>157</th>\n",
       "      <td>23</td>\n",
       "      <td>14.745</td>\n",
       "      <td>3.08</td>\n",
       "      <td>6.17</td>\n",
       "      <td>1.56</td>\n",
       "      <td>0</td>\n",
       "      <td>0</td>\n",
       "      <td>0</td>\n",
       "      <td>0</td>\n",
       "      <td>0</td>\n",
       "      <td>...</td>\n",
       "      <td>0</td>\n",
       "      <td>0</td>\n",
       "      <td>0</td>\n",
       "      <td>0</td>\n",
       "      <td>0</td>\n",
       "      <td>0</td>\n",
       "      <td>0</td>\n",
       "      <td>0</td>\n",
       "      <td>0</td>\n",
       "      <td>1</td>\n",
       "    </tr>\n",
       "  </tbody>\n",
       "</table>\n",
       "<p>158 rows × 25 columns</p>\n",
       "</div>"
      ],
      "text/plain": [
       "     Age  Tonnage  passengers  length  cabins  Cruise_line_Azamara  \\\n",
       "0      6   30.277        6.94    5.94    3.55                    1   \n",
       "1      6   30.277        6.94    5.94    3.55                    1   \n",
       "2     26   47.262       14.86    7.22    7.43                    0   \n",
       "3     11  110.000       29.74    9.53   14.88                    0   \n",
       "4     17  101.353       26.42    8.92   13.21                    0   \n",
       "..   ...      ...         ...     ...     ...                  ...   \n",
       "153   22    3.341        0.66    2.79    0.33                    0   \n",
       "154   14   76.800       19.60    8.79    9.67                    0   \n",
       "155   25    5.350        1.58    4.40    0.74                    0   \n",
       "156   27    5.350        1.67    4.40    0.74                    0   \n",
       "157   23   14.745        3.08    6.17    1.56                    0   \n",
       "\n",
       "     Cruise_line_Carnival  Cruise_line_Celebrity  Cruise_line_Costa  \\\n",
       "0                       0                      0                  0   \n",
       "1                       0                      0                  0   \n",
       "2                       1                      0                  0   \n",
       "3                       1                      0                  0   \n",
       "4                       1                      0                  0   \n",
       "..                    ...                    ...                ...   \n",
       "153                     0                      0                  0   \n",
       "154                     0                      0                  0   \n",
       "155                     0                      0                  0   \n",
       "156                     0                      0                  0   \n",
       "157                     0                      0                  0   \n",
       "\n",
       "     Cruise_line_Crystal  ...  Cruise_line_Oceania  Cruise_line_Orient  \\\n",
       "0                      0  ...                    0                   0   \n",
       "1                      0  ...                    0                   0   \n",
       "2                      0  ...                    0                   0   \n",
       "3                      0  ...                    0                   0   \n",
       "4                      0  ...                    0                   0   \n",
       "..                   ...  ...                  ...                 ...   \n",
       "153                    0  ...                    0                   0   \n",
       "154                    0  ...                    0                   0   \n",
       "155                    0  ...                    0                   0   \n",
       "156                    0  ...                    0                   0   \n",
       "157                    0  ...                    0                   0   \n",
       "\n",
       "     Cruise_line_P&O  Cruise_line_Princess  Cruise_line_Regent_Seven_Seas  \\\n",
       "0                  0                     0                              0   \n",
       "1                  0                     0                              0   \n",
       "2                  0                     0                              0   \n",
       "3                  0                     0                              0   \n",
       "4                  0                     0                              0   \n",
       "..               ...                   ...                            ...   \n",
       "153                0                     0                              0   \n",
       "154                0                     0                              0   \n",
       "155                0                     0                              0   \n",
       "156                0                     0                              0   \n",
       "157                0                     0                              0   \n",
       "\n",
       "     Cruise_line_Royal_Caribbean  Cruise_line_Seabourn  Cruise_line_Silversea  \\\n",
       "0                              0                     0                      0   \n",
       "1                              0                     0                      0   \n",
       "2                              0                     0                      0   \n",
       "3                              0                     0                      0   \n",
       "4                              0                     0                      0   \n",
       "..                           ...                   ...                    ...   \n",
       "153                            0                     0                      0   \n",
       "154                            0                     0                      0   \n",
       "155                            0                     0                      0   \n",
       "156                            0                     0                      0   \n",
       "157                            0                     0                      0   \n",
       "\n",
       "     Cruise_line_Star  Cruise_line_Windstar  \n",
       "0                   0                     0  \n",
       "1                   0                     0  \n",
       "2                   0                     0  \n",
       "3                   0                     0  \n",
       "4                   0                     0  \n",
       "..                ...                   ...  \n",
       "153                 1                     0  \n",
       "154                 1                     0  \n",
       "155                 0                     1  \n",
       "156                 0                     1  \n",
       "157                 0                     1  \n",
       "\n",
       "[158 rows x 25 columns]"
      ]
     },
     "execution_count": 92,
     "metadata": {},
     "output_type": "execute_result"
    }
   ],
   "source": [
    "# creating splitted dataset\n",
    "x = df.drop(['crew'], axis=1)\n",
    "x2 = pd.get_dummies(x)\n",
    "x2"
   ]
  },
  {
   "cell_type": "code",
   "execution_count": 95,
   "metadata": {},
   "outputs": [],
   "source": [
    "# split the data into train and test sets\n",
    "x_train, x_test, y_train, y_test = train_test_split(x2, y, test_size=0.4, shuffle=True)"
   ]
  },
  {
   "cell_type": "code",
   "execution_count": 96,
   "metadata": {},
   "outputs": [
    {
     "data": {
      "text/plain": [
       "((94, 25), (94,))"
      ]
     },
     "execution_count": 96,
     "metadata": {},
     "output_type": "execute_result"
    }
   ],
   "source": [
    "x_train.shape, y_train.shape"
   ]
  },
  {
   "cell_type": "code",
   "execution_count": 97,
   "metadata": {},
   "outputs": [
    {
     "data": {
      "text/plain": [
       "((64, 25), (64,))"
      ]
     },
     "execution_count": 97,
     "metadata": {},
     "output_type": "execute_result"
    }
   ],
   "source": [
    "x_test.shape, y_test.shape"
   ]
  },
  {
   "cell_type": "markdown",
   "metadata": {},
   "source": [
    "# Q5\n",
    "\n",
    "## Linear Regression Model"
   ]
  },
  {
   "cell_type": "code",
   "execution_count": 98,
   "metadata": {},
   "outputs": [],
   "source": [
    "from sklearn import linear_model\n",
    "from sklearn.metrics import mean_squared_error, r2_score"
   ]
  },
  {
   "cell_type": "code",
   "execution_count": 99,
   "metadata": {},
   "outputs": [],
   "source": [
    " model = linear_model.LinearRegression()"
   ]
  },
  {
   "cell_type": "code",
   "execution_count": 101,
   "metadata": {},
   "outputs": [
    {
     "data": {
      "text/plain": [
       "LinearRegression()"
      ]
     },
     "execution_count": 101,
     "metadata": {},
     "output_type": "execute_result"
    }
   ],
   "source": [
    "model.fit(x_train, y_train)"
   ]
  },
  {
   "cell_type": "code",
   "execution_count": 110,
   "metadata": {},
   "outputs": [],
   "source": [
    "# prediction\n",
    "y_pred = model.predict(x_test)"
   ]
  },
  {
   "cell_type": "code",
   "execution_count": 106,
   "metadata": {},
   "outputs": [
    {
     "name": "stdout",
     "output_type": "stream",
     "text": [
      "Coefficients:  [ 2.30435926e-02  4.79151468e-03 -8.85739244e-02  7.89002719e-01\n",
      "  6.51620028e-01  2.06790897e-01 -1.50508769e-01  3.09275318e-01\n",
      " -4.18733302e-01  2.68657183e-01  8.99233031e-01  3.33066907e-16\n",
      " -8.02347553e-01 -2.32465455e-01  4.40250663e-01  5.40614171e-01\n",
      " -9.84739950e-01 -4.99821916e-01 -1.07094190e-02  3.70148193e-01\n",
      " -1.12488361e+00  2.90194182e-01  0.00000000e+00  1.56680887e+00\n",
      " -6.67762531e-01]\n",
      "Intercept:  -3.325349357406407\n",
      "Mean Squared Error (MSE): 1.29\n",
      "Coefficient of Determination (R^2): 0.92\n"
     ]
    }
   ],
   "source": [
    "# display model performance \n",
    "print('Coefficients: ', model.coef_)\n",
    "print('Intercept: ', model.intercept_)\n",
    "print('Mean Squared Error (MSE): %.2f'\n",
    "     % mean_squared_error(y_test, y_pred))\n",
    "print('Coefficient of Determination (R^2): %.2f'\n",
    "     % r2_score(y_test, y_pred))"
   ]
  },
  {
   "cell_type": "code",
   "execution_count": 108,
   "metadata": {},
   "outputs": [
    {
     "data": {
      "text/plain": [
       "37      6.36\n",
       "15     11.60\n",
       "56      8.42\n",
       "155     0.88\n",
       "140     6.60\n",
       "       ...  \n",
       "118     4.47\n",
       "106     3.73\n",
       "96     12.20\n",
       "98      9.00\n",
       "136     7.65\n",
       "Name: crew, Length: 64, dtype: float64"
      ]
     },
     "execution_count": 108,
     "metadata": {},
     "output_type": "execute_result"
    }
   ],
   "source": [
    "y_test"
   ]
  },
  {
   "cell_type": "code",
   "execution_count": 112,
   "metadata": {},
   "outputs": [
    {
     "data": {
      "text/plain": [
       "array([ 7.1070957 , 11.79437439,  8.44519539,  0.42247651,  7.8503118 ,\n",
       "        6.34061308,  8.83548147,  8.28795136,  5.87919903,  9.86382628,\n",
       "        9.82668238,  5.78987409,  8.85105166, 13.1798485 ,  4.95169266,\n",
       "        5.41797689,  8.78192088, 10.89885607,  5.89512413,  1.46173844,\n",
       "        8.78192088,  4.84164439, 11.82530801,  2.70178388,  1.95066915,\n",
       "        6.05977139,  5.20607689,  5.07656573, 10.68305936, 10.99208195,\n",
       "        2.73014191,  3.55      ,  5.27046294, 10.41529975,  1.1223204 ,\n",
       "        8.89713884, -0.18297392,  8.11467173, 18.83283561,  7.41086091,\n",
       "        8.4749403 ,  9.15257444, 11.25988361, 11.25988361,  5.13772072,\n",
       "        8.12706169,  7.04640478,  1.53086922, 11.09870345, 11.87679155,\n",
       "        3.6412244 ,  9.28661626,  9.17723756,  8.83003051,  1.95066915,\n",
       "        9.86382628, 11.12690206,  8.09571952, 11.88580143,  3.34789363,\n",
       "        3.44436611, 10.75928212,  9.64547948,  7.87335539])"
      ]
     },
     "execution_count": 112,
     "metadata": {},
     "output_type": "execute_result"
    }
   ],
   "source": [
    "y_pred"
   ]
  },
  {
   "cell_type": "code",
   "execution_count": 118,
   "metadata": {},
   "outputs": [
    {
     "data": {
      "text/plain": [
       "<AxesSubplot:xlabel='crew'>"
      ]
     },
     "execution_count": 118,
     "metadata": {},
     "output_type": "execute_result"
    },
    {
     "data": {
      "image/png": "[encoded data removed]",
      "text/plain": [
       "<Figure size 432x288 with 1 Axes>"
      ]
     },
     "metadata": {
      "needs_background": "light"
     },
     "output_type": "display_data"
    }
   ],
   "source": [
    "sns.scatterplot(y_test, y_pred, alpha=0.5)"
   ]
  },
  {
   "cell_type": "markdown",
   "metadata": {},
   "source": [
    " # Q6\n",
    " ## Pearson Correlation Coefficient"
   ]
  },
  {
   "cell_type": "code",
   "execution_count": 120,
   "metadata": {},
   "outputs": [],
   "source": [
    "import numpy as np"
   ]
  },
  {
   "cell_type": "code",
   "execution_count": 125,
   "metadata": {},
   "outputs": [
    {
     "data": {
      "text/plain": [
       "array([[1.        , 0.98383409, 0.99796392, ..., 0.97032006, 0.98948632,\n",
       "        0.99377146],\n",
       "       [0.98383409, 1.        , 0.99103291, ..., 0.99730546, 0.99821828,\n",
       "        0.99326101],\n",
       "       [0.99796392, 0.99103291, 1.        , ..., 0.98163295, 0.99340542,\n",
       "        0.99859882],\n",
       "       ...,\n",
       "       [0.97032006, 0.99730546, 0.98163295, ..., 1.        , 0.99194892,\n",
       "        0.98749613],\n",
       "       [0.98948632, 0.99821828, 0.99340542, ..., 0.99194892, 1.        ,\n",
       "        0.99297674],\n",
       "       [0.99377146, 0.99326101, 0.99859882, ..., 0.98749613, 0.99297674,\n",
       "        1.        ]])"
      ]
     },
     "execution_count": 125,
     "metadata": {},
     "output_type": "execute_result"
    }
   ],
   "source": [
    "my_pcc = np.corrcoef(x_train, x_test)\n",
    "my_pcc"
   ]
  },
  {
   "cell_type": "markdown",
   "metadata": {},
   "source": [
    "# Q7\n",
    "## Hyper parameters"
   ]
  },
  {
   "cell_type": "markdown",
   "metadata": {},
   "source": [
    "In this model we've used Mean Squared Error (MSE) and Coefficient of Determination (R^2) as our hyperparameters.\n",
    "* So clearly less MSE shows better performance of the model and vice versa.\n",
    "* Also we have the Coefficient of Determination or shortly \"R squared\" which varies from 0 to 1 and is a statistical measure of how well the regression predictions approximate the real data points.  "
   ]
  }
 ],
 "metadata": {
  "kernelspec": {
   "display_name": "Python 3",
   "language": "python",
   "name": "python3"
  },
  "language_info": {
   "codemirror_mode": {
    "name": "ipython",
    "version": 3
   },
   "file_extension": ".py",
   "mimetype": "text/x-python",
   "name": "python",
   "nbconvert_exporter": "python",
   "pygments_lexer": "ipython3",
   "version": "3.8.10"
  }
 },
 "nbformat": 4,
 "nbformat_minor": 4
}
